{
 "cells": [
  {
   "cell_type": "markdown",
   "id": "766c3b5c",
   "metadata": {},
   "source": [
    "## 11. Write a python program to find the factorial of a number.\n"
   ]
  },
  {
   "cell_type": "code",
   "execution_count": 1,
   "id": "5ebe3028",
   "metadata": {},
   "outputs": [
    {
     "name": "stdout",
     "output_type": "stream",
     "text": [
      "enter the number: 0\n"
     ]
    }
   ],
   "source": [
    "number = int(input (\"enter the number: \"))"
   ]
  },
  {
   "cell_type": "code",
   "execution_count": 2,
   "id": "5900e822",
   "metadata": {},
   "outputs": [],
   "source": [
    "factorial =1"
   ]
  },
  {
   "cell_type": "code",
   "execution_count": 3,
   "id": "92119648",
   "metadata": {},
   "outputs": [
    {
     "name": "stdout",
     "output_type": "stream",
     "text": [
      "0! = 1\n"
     ]
    }
   ],
   "source": [
    "if(number < 0):\n",
    "    print(\"cant compute the factorial for negative number\")\n",
    "elif(number <2):\n",
    "    print(\"{}! = {}\".format(number,factorial))\n",
    "else:\n",
    "    for num in range(number, 1, -1):\n",
    "        factorial = factorial*num\n",
    "    print(\"{}! = {}\".format(number,factorial))"
   ]
  },
  {
   "cell_type": "markdown",
   "id": "2607444e",
   "metadata": {},
   "source": [
    "## 12. Write a python program to find whether a number is prime or composite."
   ]
  },
  {
   "cell_type": "code",
   "execution_count": 4,
   "id": "cfbec3a2",
   "metadata": {},
   "outputs": [
    {
     "name": "stdout",
     "output_type": "stream",
     "text": [
      "enter a natural number:5\n"
     ]
    }
   ],
   "source": [
    "number = int(input(\"enter a natural number:\"))"
   ]
  },
  {
   "cell_type": "code",
   "execution_count": 5,
   "id": "3e1ac486",
   "metadata": {},
   "outputs": [
    {
     "name": "stdout",
     "output_type": "stream",
     "text": [
      "5 is a prime number\n"
     ]
    }
   ],
   "source": [
    "if  number < 1:\n",
    "    print (\"Number needs to be greated than 1\")\n",
    "elif number ==1:\n",
    "    print(number , \" is neighter prime not composite\")\n",
    "else:\n",
    "    for divisor in range(2,(number//2)+1):\n",
    "        if (number % divisor) == 0:\n",
    "            print(number,\"is a composite number\")\n",
    "            break\n",
    "    else:\n",
    "        print(number,\"is a prime number\")"
   ]
  },
  {
   "cell_type": "markdown",
   "id": "85726b42",
   "metadata": {},
   "source": [
    "## 13. Write a python program to check whether a given string is palindrome or not."
   ]
  },
  {
   "cell_type": "code",
   "execution_count": 8,
   "id": "397db368",
   "metadata": {},
   "outputs": [
    {
     "name": "stdout",
     "output_type": "stream",
     "text": [
      "enter string: laxal\n",
      "Palindrome string\n"
     ]
    }
   ],
   "source": [
    "a = input(\"enter string: \")\n",
    "b = a[-1::-1]\n",
    "if(a==b):\n",
    "    print(\"Palindrome string\")\n",
    "else:\n",
    "    print(\"Not palindrome string\")"
   ]
  },
  {
   "cell_type": "markdown",
   "id": "b5003c17",
   "metadata": {},
   "source": [
    "## 14. Write a Python program to get the third side of right-angled triangle from two given sides."
   ]
  },
  {
   "cell_type": "code",
   "execution_count": 11,
   "id": "7d600395",
   "metadata": {},
   "outputs": [
    {
     "name": "stdout",
     "output_type": "stream",
     "text": [
      "enter the length\n",
      "a : 3.0\n",
      "b : 4.0\n",
      "the lenght of the hypotenuse is  5.0\n"
     ]
    }
   ],
   "source": [
    "from math import sqrt\n",
    "print(\"enter the length\")\n",
    "\n",
    "a = float(input(\"a : \"))\n",
    "b = float(input(\"b : \"))\n",
    "\n",
    "c = sqrt(a**2 + b**2)\n",
    "print(\"the lenght of the hypotenuse is \", c)"
   ]
  },
  {
   "cell_type": "markdown",
   "id": "4fc525db",
   "metadata": {},
   "source": [
    "## 15. Write a python program to print the frequency of each of the characters present in a given string"
   ]
  },
  {
   "cell_type": "markdown",
   "id": "c1c437fa",
   "metadata": {},
   "source": [
    "#### in operator"
   ]
  },
  {
   "cell_type": "code",
   "execution_count": 12,
   "id": "ead30d4c",
   "metadata": {},
   "outputs": [
    {
     "name": "stdout",
     "output_type": "stream",
     "text": [
      "True\n"
     ]
    }
   ],
   "source": [
    "d1 = {'jan': 1,  'april':4,  'august':8}\n",
    "print('jan' in d1)"
   ]
  },
  {
   "cell_type": "code",
   "execution_count": 13,
   "id": "b8172fa5",
   "metadata": {},
   "outputs": [
    {
     "name": "stdout",
     "output_type": "stream",
     "text": [
      "False\n"
     ]
    }
   ],
   "source": [
    "print('feb' in d1)"
   ]
  },
  {
   "cell_type": "code",
   "execution_count": 14,
   "id": "d72e31fa",
   "metadata": {},
   "outputs": [
    {
     "name": "stdout",
     "output_type": "stream",
     "text": [
      "enter the stringVTSGJSVXVSHVCHSTVCHSVTSVSH\n",
      "{'V': 7, 'T': 3, 'S': 7, 'G': 1, 'J': 1, 'X': 1, 'H': 4, 'C': 2}\n"
     ]
    }
   ],
   "source": [
    "str1 = input(\"enter the string\")\n",
    "d1 = dict()\n",
    "\n",
    "for  c in str1:\n",
    "    if c in d1:\n",
    "        d1[c] =d1[c] +1\n",
    "    else:\n",
    "        d1[c] =1\n",
    "print(d1)"
   ]
  },
  {
   "cell_type": "markdown",
   "id": "971a7fd6",
   "metadata": {},
   "source": [
    "#### get()"
   ]
  },
  {
   "cell_type": "code",
   "execution_count": 15,
   "id": "492cc355",
   "metadata": {},
   "outputs": [
    {
     "name": "stdout",
     "output_type": "stream",
     "text": [
      "1\n"
     ]
    }
   ],
   "source": [
    "d1 = {'jan': 1,  'april':4,  'august':8}\n",
    "print(d1.get('jan', 0))"
   ]
  },
  {
   "cell_type": "code",
   "execution_count": 16,
   "id": "31850629",
   "metadata": {},
   "outputs": [
    {
     "name": "stdout",
     "output_type": "stream",
     "text": [
      "0\n"
     ]
    }
   ],
   "source": [
    "print(d1.get('feb',0))"
   ]
  },
  {
   "cell_type": "code",
   "execution_count": 17,
   "id": "1858af51",
   "metadata": {},
   "outputs": [
    {
     "name": "stdout",
     "output_type": "stream",
     "text": [
      "enter the stringuhyftuutugiyfuttfiygiyftu\n",
      "{'u': 6, 'h': 1, 'y': 4, 'f': 4, 't': 5, 'g': 2, 'i': 3}\n"
     ]
    }
   ],
   "source": [
    "str1 = input(\"enter the string\")\n",
    "d1 = dict()\n",
    "\n",
    "for  c in str1:\n",
    "    d1[c] = d1.get(c,0)+1\n",
    "print(d1)"
   ]
  },
  {
   "cell_type": "code",
   "execution_count": null,
   "id": "9ba6b6f1",
   "metadata": {},
   "outputs": [],
   "source": []
  }
 ],
 "metadata": {
  "kernelspec": {
   "display_name": "Python 3",
   "language": "python",
   "name": "python3"
  },
  "language_info": {
   "codemirror_mode": {
    "name": "ipython",
    "version": 3
   },
   "file_extension": ".py",
   "mimetype": "text/x-python",
   "name": "python",
   "nbconvert_exporter": "python",
   "pygments_lexer": "ipython3",
   "version": "3.8.8"
  }
 },
 "nbformat": 4,
 "nbformat_minor": 5
}
